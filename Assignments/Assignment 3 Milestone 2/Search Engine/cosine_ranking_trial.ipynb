{
 "cells": [
  {
   "cell_type": "markdown",
   "metadata": {},
   "source": [
    "### Using TF-IDF and cosine similarity to build a search engine\n",
    "With Reference to: https://alliescomputing.com/knowledge-base/christmas-carol-search-using-tf-idf-and-cosine-similarity"
   ]
  },
  {
   "cell_type": "markdown",
   "metadata": {},
   "source": [
    "### Load the Data"
   ]
  },
  {
   "cell_type": "code",
   "execution_count": 132,
   "metadata": {},
   "outputs": [],
   "source": [
    "from nltk.stem import SnowballStemmer\n",
    "import re\n",
    "import ast\n",
    "# import snowballstemmer as ss\n",
    "# stemmer = ss.stemmer('english')\n",
    "ss = SnowballStemmer(language=\"english\")\n",
    "\n",
    "\n",
    "def searchUrls(query):\n",
    "    # query = input('Enter the query: ')\n",
    "    # query = authority assassin\n",
    "    queries = query.split() # ['authority', 'assassin']\n",
    "    print(\"queries:\", queries)\n",
    "    stemmed_query = []\n",
    "    for query_word in queries:\n",
    "        print(query_word)\n",
    "        query_word = query_word.lower()\n",
    "        stemmed_query.append(ss.stem(query_word))\n",
    "\n",
    "    print(stemmed_query)\n",
    "    file_urls = [] \n",
    "    # ['author', 'assasin']\n",
    "    for i in range(len(stemmed_query)):\n",
    "        url_string = \"latest data/IndexData_new/\" + stemmed_query[i][0] + \".txt\"\n",
    "        print(url_string)\n",
    "\n",
    "        with open(url_string, 'r') as f:\n",
    "            content = f.readlines()\n",
    "        f.close()\n",
    "        # Ask Pooja and Rutuja about stemming issues. like 'authority' \n",
    "        # should become 'authorit', but here it becomes 'author'\n",
    "        document_freuency = 0\n",
    "        for line in content:\n",
    "            query_string = '\"' + stemmed_query[i] + '\"'\n",
    "            if query_string in line:\n",
    "                dictionary_of_line = ast.literal_eval(line)\n",
    "                document_freuency = len(dictionary_of_line[stemmed_query[i]])\n",
    "                print(\"dictionary_of_line[stemmed_query[i]]\", dictionary_of_line[stemmed_query[i]])\n",
    "                print(\"document_frequnecy:\", document_freuency)\n",
    "                \n",
    "                document_url_index = dictionary_of_line[stemmed_query[i]].keys()\n",
    "                print(\"document_url_index:\", document_url_index)\n",
    "                print(type(document_url_index))\n",
    "\n",
    "                document_tf_values = []\n",
    "                values = dictionary_of_line[stemmed_query[i]].values()\n",
    "                for value in values:\n",
    "                    document_tf_values.append(value[0])\n",
    "\n",
    "\n",
    "                print(\"document_tf_values:\", document_tf_values)\n",
    "                print(type(document_tf_values))\n",
    "\n",
    "                # document_url_index = re.findall('\"([^\"]*)\"', line)\n",
    "                \n",
    "        '''\n",
    "        % python timeit.py -s 'import re' 're.findall(\"\\\"([^\\\"]*)\\\"\", \"SetVariables \\\"a\\\" \\\"b\\\" \\\"c\\\" \")'\n",
    "        1000000 loops, best of 3: 2.37 usec per loop\n",
    "\n",
    "        % python timeit.py '\"SetVariables \\\"a\\\" \\\"b\\\" \\\"c\\\"\".split(\"\\\"\")[1::2];'\n",
    "        1000000 loops, best of 3: 0.569 usec per loop\n",
    "        '''\n"
   ]
  },
  {
   "cell_type": "code",
   "execution_count": 133,
   "metadata": {},
   "outputs": [
    {
     "name": "stdout",
     "output_type": "stream",
     "text": [
      "queries: ['crux']\n",
      "crux\n",
      "['crux']\n",
      "latest data/IndexData_new/c.txt\n",
      "dictionary_of_line[stemmed_query[i]] {'16165': [0.0, [54378]], '18410': [0.0, [11303]], '20538': [0.0, [2070]]}\n",
      "document_frequnecy: 3\n",
      "document_url_index: dict_keys(['16165', '18410', '20538'])\n",
      "<class 'dict_keys'>\n",
      "document_tf_values: [0.0, 0.0, 0.0]\n",
      "<class 'list'>\n",
      "None\n"
     ]
    }
   ],
   "source": [
    "query = \"crux\"\n",
    "print(searchUrls(query))"
   ]
  },
  {
   "cell_type": "code",
   "execution_count": null,
   "metadata": {},
   "outputs": [],
   "source": []
  }
 ],
 "metadata": {
  "interpreter": {
   "hash": "8aef47882d827d293f8d273d6c36ea192ef053423e27fdca3147e74c2cebcfb7"
  },
  "kernelspec": {
   "display_name": "Python 3.9.10 ('search_engine_env': venv)",
   "language": "python",
   "name": "python3"
  },
  "language_info": {
   "codemirror_mode": {
    "name": "ipython",
    "version": 3
   },
   "file_extension": ".py",
   "mimetype": "text/x-python",
   "name": "python",
   "nbconvert_exporter": "python",
   "pygments_lexer": "ipython3",
   "version": "3.9.10"
  },
  "orig_nbformat": 4
 },
 "nbformat": 4,
 "nbformat_minor": 2
}
