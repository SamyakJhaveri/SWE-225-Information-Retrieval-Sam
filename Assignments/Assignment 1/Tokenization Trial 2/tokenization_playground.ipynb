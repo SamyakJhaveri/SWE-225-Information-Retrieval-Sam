{
 "cells": [
  {
   "cell_type": "markdown",
   "metadata": {},
   "source": [
    "Reference to Article: https://dylancastillo.co/nlp-snippets-clean-and-tokenize-text-with-python/"
   ]
  },
  {
   "cell_type": "code",
   "execution_count": 2,
   "metadata": {},
   "outputs": [],
   "source": [
    "def print_text(sample, clean):\n",
    "    print(f\"Before: {sample}\")\n",
    "    print(f\"After: {clean}\")"
   ]
  },
  {
   "cell_type": "markdown",
   "metadata": {},
   "source": [
    "### Lowercase Text"
   ]
  },
  {
   "cell_type": "code",
   "execution_count": 3,
   "metadata": {},
   "outputs": [
    {
     "name": "stdout",
     "output_type": "stream",
     "text": [
      "Before: THIS Will Be LOWERCASED.\n",
      "After: this will be lowercased.\n"
     ]
    }
   ],
   "source": [
    "sample_text = \"THIS Will Be LOWERCASED.\"\n",
    "clean_text = sample_text.lower()\n",
    "print_text(sample_text, clean_text)"
   ]
  },
  {
   "cell_type": "markdown",
   "metadata": {},
   "source": [
    "### Remove Extra spaces, tas, and line breaks"
   ]
  },
  {
   "cell_type": "code",
   "execution_count": 4,
   "metadata": {},
   "outputs": [
    {
     "name": "stdout",
     "output_type": "stream",
     "text": [
      "Before:    \t\ta __   text\t\t\t\n",
      "\n",
      "\\ sample text\n",
      "After: a __ text \\ sample text\n"
     ]
    }
   ],
   "source": [
    "sample_text = \"   \\t\\ta __   text\\t\\t\\t\\n\\n\\ sample text\"\n",
    "clean_text = \" \".join(sample_text.split())\n",
    "print_text(sample_text, clean_text)"
   ]
  },
  {
   "cell_type": "markdown",
   "metadata": {},
   "source": [
    "### Remove Punctation"
   ]
  },
  {
   "cell_type": "code",
   "execution_count": 6,
   "metadata": {},
   "outputs": [
    {
     "name": "stdout",
     "output_type": "stream",
     "text": [
      "Before: Your New Password is: E.D.I.T.H@tony#glasses! You're welcome.\n",
      "After: Your New Password is EDITHtonyglasses Youre welcome\n"
     ]
    }
   ],
   "source": [
    "import re \n",
    "from string import punctuation\n",
    "\n",
    "sample_text = \"Your New Password is: E.D.I.T.H@tony#glasses! You're welcome.\"\n",
    "clean_text = re.sub(f\"[{re.escape(punctuation)}]\",\"\", sample_text)\n",
    "print_text(sample_text, clean_text)"
   ]
  },
  {
   "cell_type": "markdown",
   "metadata": {},
   "source": [
    "### Remove all special characters and punctuation"
   ]
  },
  {
   "cell_type": "code",
   "execution_count": 8,
   "metadata": {},
   "outputs": [
    {
     "name": "stdout",
     "output_type": "stream",
     "text": [
      "Before: Your New Password is: E.D.I.T.H@tony#glasses! You're welcome.\n",
      "After: Your New Password is EDITHtonyglasses Youre welcome\n",
      "['Your', 'New', 'Password', 'is', 'EDITHtonyglasses', 'Youre', 'welcome']\n"
     ]
    }
   ],
   "source": [
    "import re\n",
    "sample_text = \"Your New Password is: E.D.I.T.H@tony#glasses! You're welcome.\"\n",
    "clean_text = re.sub(r\"[^A-Za-z0-9\\s]+\", \"\", sample_text)\n",
    "tokens = clean_text.split()\n",
    "print_text(sample_text, clean_text)\n",
    "print(tokens)"
   ]
  },
  {
   "cell_type": "code",
   "execution_count": null,
   "metadata": {},
   "outputs": [],
   "source": []
  }
 ],
 "metadata": {
  "interpreter": {
   "hash": "aee8b7b246df8f9039afb4144a1f6fd8d2ca17a180786b69acc140d282b71a49"
  },
  "kernelspec": {
   "display_name": "Python 3.9.9 64-bit",
   "language": "python",
   "name": "python3"
  },
  "language_info": {
   "codemirror_mode": {
    "name": "ipython",
    "version": 3
   },
   "file_extension": ".py",
   "mimetype": "text/x-python",
   "name": "python",
   "nbconvert_exporter": "python",
   "pygments_lexer": "ipython3",
   "version": "3.9.9"
  },
  "orig_nbformat": 4
 },
 "nbformat": 4,
 "nbformat_minor": 2
}
